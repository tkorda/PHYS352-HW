{
 "cells": [
  {
   "cell_type": "code",
   "execution_count": 6,
   "metadata": {
    "collapsed": true
   },
   "outputs": [],
   "source": [
    "import sympy as sp\n",
    "from sympy import Matrix\n",
    "sp.init_printing()"
   ]
  },
  {
   "cell_type": "markdown",
   "metadata": {},
   "source": [
    "### Problem 1.3"
   ]
  },
  {
   "cell_type": "code",
   "execution_count": 7,
   "metadata": {
    "collapsed": true
   },
   "outputs": [],
   "source": [
    "A = Matrix([[1,1,1]])\n",
    "B = Matrix([[1,1,-1]])\n",
    "\n",
    "Aabs = sp.sqrt(A.dot(A))\n",
    "Babs = sp.sqrt(B.dot(B))\n"
   ]
  },
  {
   "cell_type": "code",
   "execution_count": 8,
   "metadata": {},
   "outputs": [
    {
     "ename": "NameError",
     "evalue": "name 'acos' is not defined",
     "output_type": "error",
     "traceback": [
      "\u001b[1;31m---------------------------------------------------------------------------\u001b[0m",
      "\u001b[1;31mNameError\u001b[0m                                 Traceback (most recent call last)",
      "\u001b[1;32m<ipython-input-8-ce26b271428e>\u001b[0m in \u001b[0;36m<module>\u001b[1;34m()\u001b[0m\n\u001b[0;32m      1\u001b[0m \u001b[0mABdot\u001b[0m\u001b[1;33m=\u001b[0m \u001b[0mA\u001b[0m\u001b[1;33m.\u001b[0m\u001b[0mdot\u001b[0m\u001b[1;33m(\u001b[0m\u001b[0mB\u001b[0m\u001b[1;33m)\u001b[0m\u001b[1;33m\u001b[0m\u001b[0m\n\u001b[1;32m----> 2\u001b[1;33m \u001b[0mtheta\u001b[0m \u001b[1;33m=\u001b[0m \u001b[0macos\u001b[0m\u001b[1;33m(\u001b[0m\u001b[0mABdot\u001b[0m\u001b[1;33m/\u001b[0m\u001b[1;33m(\u001b[0m\u001b[0mAabs\u001b[0m\u001b[1;33m*\u001b[0m\u001b[0mBabs\u001b[0m\u001b[1;33m)\u001b[0m\u001b[1;33m)\u001b[0m\u001b[1;33m\u001b[0m\u001b[0m\n\u001b[0m\u001b[0;32m      3\u001b[0m \u001b[0mtheta\u001b[0m\u001b[1;33m\u001b[0m\u001b[0m\n",
      "\u001b[1;31mNameError\u001b[0m: name 'acos' is not defined"
     ]
    }
   ],
   "source": [
    "ABdot= A.dot(B)\n",
    "theta = acos(ABdot/(Aabs*Babs))\n",
    "theta"
   ]
  },
  {
   "cell_type": "markdown",
   "metadata": {},
   "source": [
    "### I'm not sure why this won't return a proper angle. The angle should be 70.5"
   ]
  },
  {
   "cell_type": "markdown",
   "metadata": {},
   "source": [
    "### Problem 1.5"
   ]
  },
  {
   "cell_type": "code",
   "execution_count": 11,
   "metadata": {
    "collapsed": true
   },
   "outputs": [],
   "source": [
    "A_x, A_y, A_z = sp.symbols('A_x A_y A_z')\n",
    "B_x, B_y, B_z = sp.symbols('B_x B_y B_z')\n",
    "C_x, C_y, C_z = sp.symbols('C_x C_y C_z')\n",
    "xhat, yhat, zhat = sp.symbols('xhat yhat zhat')\n",
    "A, B, C = sp.symbols('A B C')"
   ]
  },
  {
   "cell_type": "code",
   "execution_count": 12,
   "metadata": {},
   "outputs": [
    {
     "data": {
      "text/latex": [
       "$$\\left[\\begin{matrix}\\hat{x} & \\hat{y} & \\hat{z}\\\\B_{x} & B_{y} & B_{z}\\\\C_{x} & C_{y} & C_{z}\\end{matrix}\\right]$$"
      ],
      "text/plain": [
       "⎡x̂  ŷ   ẑ ⎤\n",
       "⎢            ⎥\n",
       "⎢Bₓ  B_y  B_z⎥\n",
       "⎢            ⎥\n",
       "⎣Cₓ  C_y  C_z⎦"
      ]
     },
     "execution_count": 12,
     "metadata": {},
     "output_type": "execute_result"
    }
   ],
   "source": [
    "BxC = Matrix([[xhat,yhat,zhat], [B_x, B_y, B_z], [C_x, C_y, C_z]])\n",
    "BxC"
   ]
  },
  {
   "cell_type": "code",
   "execution_count": 13,
   "metadata": {},
   "outputs": [
    {
     "data": {
      "text/latex": [
       "$$\\left[\\begin{matrix}\\hat{x} & \\hat{y} & \\hat{z}\\\\A_{x} & A_{y} & A_{z}\\\\B_{y} C_{z} - B_{z} C_{y} & B_{x} C_{z} - B_{z} C_{x} & B_{x} C_{y} - B_{y} C_{x}\\end{matrix}\\right]$$"
      ],
      "text/plain": [
       "⎡       x̂                ŷ               ẑ       ⎤\n",
       "⎢                                                   ⎥\n",
       "⎢       Aₓ                A_y              A_z      ⎥\n",
       "⎢                                                   ⎥\n",
       "⎣B_y⋅C_z - B_z⋅C_y  Bₓ⋅C_z - B_z⋅Cₓ  Bₓ⋅C_y - B_y⋅Cₓ⎦"
      ]
     },
     "execution_count": 13,
     "metadata": {},
     "output_type": "execute_result"
    }
   ],
   "source": [
    "AxBxC = Matrix([[xhat,yhat,zhat], [A_x, A_y, A_z],[((B_y*C_z)-(B_z*C_y)),((B_x*C_z)-(B_z*C_x)), ((B_x*C_y)-(B_y*C_x))]])\n",
    "AxBxC"
   ]
  },
  {
   "cell_type": "code",
   "execution_count": 14,
   "metadata": {},
   "outputs": [
    {
     "data": {
      "image/png": "[encoded data removed]",
      "text/latex": [
       "$$\\operatorname{A_{y}}{\\left (B_{x} C_{y} - B_{y} C_{x} \\right )} - \\operatorname{A_{z}}{\\left (- B_{x} C_{z} + B_{z} C_{x} \\right )}$$"
      ],
      "text/plain": [
       "A_y(Bₓ⋅C_y - B_y⋅Cₓ) - A_z(-Bₓ⋅C_z + B_z⋅Cₓ)"
      ]
     },
     "execution_count": 14,
     "metadata": {},
     "output_type": "execute_result"
    }
   ],
   "source": [
    "xcomp = A_y((B_x*C_y)-(B_y*C_x)) - (A_z((B_z*C_x)-(B_x*C_z)))\n",
    "xcomp"
   ]
  },
  {
   "cell_type": "code",
   "execution_count": 15,
   "metadata": {},
   "outputs": [
    {
     "data": {
      "image/png": "[encoded data removed]",
      "text/latex": [
       "$$\\operatorname{B_{x}}{\\left (A_{y} C_{y} + A_{z} C_{z} \\right )} - \\operatorname{C_{x}}{\\left (A_{y} B_{y} + A_{z} B_{z} \\right )}$$"
      ],
      "text/plain": [
       "Bₓ(A_y⋅C_y + A_z⋅C_z) - Cₓ(A_y⋅B_y + A_z⋅B_z)"
      ]
     },
     "execution_count": 15,
     "metadata": {},
     "output_type": "execute_result"
    }
   ],
   "source": [
    "#I can't seem to get the right side to what I want but the simplified result should be:\n",
    "xcompsimp = B_x((A_y*C_y) + (A_z*C_z)) - C_x((A_y*B_y) + (A_z*B_z))\n",
    "xcompsimp"
   ]
  },
  {
   "cell_type": "code",
   "execution_count": 16,
   "metadata": {},
   "outputs": [
    {
     "data": {
      "image/png": "[encoded data removed]",
      "text/latex": [
       "$$\\operatorname{B_{x}}{\\left (A_{x} C_{x} + A_{y} C_{y} + A_{z} C_{z} \\right )} - \\operatorname{C_{x}}{\\left (A_{x} B_{x} + A_{y} B_{y} + A_{z} B_{z} \\right )}$$"
      ],
      "text/plain": [
       "Bₓ(Aₓ⋅Cₓ + A_y⋅C_y + A_z⋅C_z) - Cₓ(Aₓ⋅Bₓ + A_y⋅B_y + A_z⋅B_z)"
      ]
     },
     "execution_count": 16,
     "metadata": {},
     "output_type": "execute_result"
    }
   ],
   "source": [
    "#These are both missing B_x(A_x*C_x) so we can add it to both sides because they will cancel.\n",
    "fullxcomp = B_x((A_x*C_x) + (A_y*C_y) + (A_z*C_z)) - C_x((A_x*B_x) + (A_y*B_y) + (A_z*B_z))\n",
    "fullxcomp"
   ]
  },
  {
   "cell_type": "code",
   "execution_count": 17,
   "metadata": {
    "scrolled": true
   },
   "outputs": [
    {
     "data": {
      "image/png": "[encoded data removed]",
      "text/latex": [
       "$$\\left [ B{\\left (A C \\right )} - C{\\left (A B \\right )}\\right ]$$"
      ],
      "text/plain": [
       "[B(A⋅C) - C(A⋅B)]"
      ]
     },
     "execution_count": 17,
     "metadata": {},
     "output_type": "execute_result"
    }
   ],
   "source": [
    "finalxcomp = [B(A*C)-C(A*B)]\n",
    "finalxcomp"
   ]
  },
  {
   "cell_type": "code",
   "execution_count": 18,
   "metadata": {
    "collapsed": true
   },
   "outputs": [],
   "source": [
    "#This is the same for the other two components. "
   ]
  },
  {
   "cell_type": "markdown",
   "metadata": {},
   "source": [
    "### Problem 1.7"
   ]
  },
  {
   "cell_type": "code",
   "execution_count": 19,
   "metadata": {},
   "outputs": [
    {
     "data": {
      "text/latex": [
       "$$\\left[\\begin{matrix}2 & -2 & 1\\end{matrix}\\right]$$"
      ],
      "text/plain": [
       "[2  -2  1]"
      ]
     },
     "execution_count": 19,
     "metadata": {},
     "output_type": "execute_result"
    }
   ],
   "source": [
    "Rprime = Matrix([[2,8,7]])\n",
    "R = Matrix([[4,6,8]])\n",
    "scriptR = R - Rprime\n",
    "scriptR"
   ]
  },
  {
   "cell_type": "code",
   "execution_count": 20,
   "metadata": {},
   "outputs": [
    {
     "data": {
      "image/png": "[encoded data removed]",
      "text/latex": [
       "$$3$$"
      ],
      "text/plain": [
       "3"
      ]
     },
     "execution_count": 20,
     "metadata": {},
     "output_type": "execute_result"
    }
   ],
   "source": [
    "absscriptR = sp.sqrt(scriptR.dot(scriptR))\n",
    "absscriptR"
   ]
  },
  {
   "cell_type": "code",
   "execution_count": 21,
   "metadata": {},
   "outputs": [
    {
     "data": {
      "text/latex": [
       "$$\\left[\\begin{matrix}\\frac{2}{3} & - \\frac{2}{3} & \\frac{1}{3}\\end{matrix}\\right]$$"
      ],
      "text/plain": [
       "[2/3  -2/3  1/3]"
      ]
     },
     "execution_count": 21,
     "metadata": {},
     "output_type": "execute_result"
    }
   ],
   "source": [
    "scriptRhat = scriptR/absscriptR\n",
    "scriptRhat"
   ]
  },
  {
   "cell_type": "markdown",
   "metadata": {},
   "source": [
    "### Problem 1.11"
   ]
  },
  {
   "cell_type": "code",
   "execution_count": 27,
   "metadata": {},
   "outputs": [
    {
     "data": {
      "text/latex": [
       "$$\\left[\\begin{matrix}2 x & 3 y^{2} & 4 z^{3}\\end{matrix}\\right]$$"
      ],
      "text/plain": [
       "⎡        2     3⎤\n",
       "⎣2⋅x  3⋅y   4⋅z ⎦"
      ]
     },
     "execution_count": 27,
     "metadata": {},
     "output_type": "execute_result"
    }
   ],
   "source": [
    "def gradient(phi):\n",
    "    x, y, z = sp.symbols('x y z')\n",
    "    Phi_x = sp.diff(phi, x)\n",
    "    Phi_y = sp.diff(phi, y)\n",
    "    Phi_z = sp.diff(phi, z)\n",
    "    return sp.Matrix([[Phi_x, Phi_y, Phi_z]])\n",
    "\n",
    "a = x**2 + y**3 + z**4\n",
    "grad = gradient(a)\n",
    "grad\n",
    "    \n",
    "    "
   ]
  },
  {
   "cell_type": "code",
   "execution_count": 28,
   "metadata": {},
   "outputs": [
    {
     "data": {
      "text/latex": [
       "$$\\left[\\begin{matrix}2 x y^{3} z^{4} & 3 x^{2} y^{2} z^{4} & 4 x^{2} y^{3} z^{3}\\end{matrix}\\right]$$"
      ],
      "text/plain": [
       "⎡     3  4     2  2  4     2  3  3⎤\n",
       "⎣2⋅x⋅y ⋅z   3⋅x ⋅y ⋅z   4⋅x ⋅y ⋅z ⎦"
      ]
     },
     "execution_count": 28,
     "metadata": {},
     "output_type": "execute_result"
    }
   ],
   "source": [
    "b = (x**2)*(y**3)*(z**4)\n",
    "grad = gradient(b)\n",
    "grad"
   ]
  },
  {
   "cell_type": "code",
   "execution_count": 29,
   "metadata": {},
   "outputs": [
    {
     "data": {
      "text/latex": [
       "$$\\left[\\begin{matrix}e^{x} \\log{\\left (z \\right )} \\sin{\\left (y \\right )} & e^{x} \\log{\\left (z \\right )} \\cos{\\left (y \\right )} & \\frac{e^{x}}{z} \\sin{\\left (y \\right )}\\end{matrix}\\right]$$"
      ],
      "text/plain": [
       "⎡                                     x       ⎤\n",
       "⎢ x                 x                ℯ ⋅sin(y)⎥\n",
       "⎢ℯ ⋅log(z)⋅sin(y)  ℯ ⋅log(z)⋅cos(y)  ─────────⎥\n",
       "⎣                                        z    ⎦"
      ]
     },
     "execution_count": 29,
     "metadata": {},
     "output_type": "execute_result"
    }
   ],
   "source": [
    "c = sp.exp(x)*sp.sin(y)*sp.ln(z)\n",
    "grad = gradient(c)\n",
    "grad"
   ]
  },
  {
   "cell_type": "markdown",
   "metadata": {},
   "source": [
    "### Problem 1.15"
   ]
  },
  {
   "cell_type": "code",
   "execution_count": 51,
   "metadata": {},
   "outputs": [
    {
     "data": {
      "image/png": "[encoded data removed]",
      "text/latex": [
       "$$x^{2}$$"
      ],
      "text/plain": [
       " 2\n",
       "x "
      ]
     },
     "execution_count": 51,
     "metadata": {},
     "output_type": "execute_result"
    }
   ],
   "source": [
    "a = sp.Matrix([[(x**2), (3*x(z**2)), (2*x*z)]])\n",
    "\n",
    "a[0]"
   ]
  },
  {
   "cell_type": "code",
   "execution_count": 50,
   "metadata": {},
   "outputs": [
    {
     "ename": "TypeError",
     "evalue": "'Add' object does not support indexing",
     "output_type": "error",
     "traceback": [
      "\u001b[1;31m---------------------------------------------------------------------------\u001b[0m",
      "\u001b[1;31mTypeError\u001b[0m                                 Traceback (most recent call last)",
      "\u001b[1;32m<ipython-input-50-3e3be5d445e4>\u001b[0m in \u001b[0;36m<module>\u001b[1;34m()\u001b[0m\n\u001b[0;32m      6\u001b[0m     \u001b[1;32mreturn\u001b[0m \u001b[0mxcomp\u001b[0m \u001b[1;33m+\u001b[0m \u001b[0mycomp\u001b[0m \u001b[1;33m+\u001b[0m \u001b[0mxcomp\u001b[0m\u001b[1;33m\u001b[0m\u001b[0m\n\u001b[0;32m      7\u001b[0m \u001b[1;33m\u001b[0m\u001b[0m\n\u001b[1;32m----> 8\u001b[1;33m \u001b[0mdiv\u001b[0m \u001b[1;33m=\u001b[0m \u001b[0mdivergence\u001b[0m\u001b[1;33m(\u001b[0m\u001b[0ma\u001b[0m\u001b[1;33m)\u001b[0m\u001b[1;33m\u001b[0m\u001b[0m\n\u001b[0m\u001b[0;32m      9\u001b[0m \u001b[0mdiv\u001b[0m\u001b[1;33m\u001b[0m\u001b[0m\n\u001b[0;32m     10\u001b[0m \u001b[1;33m\u001b[0m\u001b[0m\n",
      "\u001b[1;32m<ipython-input-50-3e3be5d445e4>\u001b[0m in \u001b[0;36mdivergence\u001b[1;34m(phi)\u001b[0m\n\u001b[0;32m      1\u001b[0m \u001b[1;32mdef\u001b[0m \u001b[0mdivergence\u001b[0m\u001b[1;33m(\u001b[0m\u001b[0mphi\u001b[0m\u001b[1;33m)\u001b[0m\u001b[1;33m:\u001b[0m\u001b[1;33m\u001b[0m\u001b[0m\n\u001b[0;32m      2\u001b[0m     \u001b[0mx\u001b[0m\u001b[1;33m,\u001b[0m \u001b[0my\u001b[0m\u001b[1;33m,\u001b[0m \u001b[0mz\u001b[0m \u001b[1;33m=\u001b[0m \u001b[0msp\u001b[0m\u001b[1;33m.\u001b[0m\u001b[0msymbols\u001b[0m\u001b[1;33m(\u001b[0m\u001b[1;34m'x y z'\u001b[0m\u001b[1;33m)\u001b[0m\u001b[1;33m\u001b[0m\u001b[0m\n\u001b[1;32m----> 3\u001b[1;33m     \u001b[0mxcomp\u001b[0m \u001b[1;33m=\u001b[0m \u001b[0msp\u001b[0m\u001b[1;33m.\u001b[0m\u001b[0mdiff\u001b[0m\u001b[1;33m(\u001b[0m\u001b[0mphi\u001b[0m\u001b[1;33m[\u001b[0m\u001b[1;36m0\u001b[0m\u001b[1;33m]\u001b[0m\u001b[1;33m,\u001b[0m \u001b[0mx\u001b[0m\u001b[1;33m)\u001b[0m\u001b[1;33m\u001b[0m\u001b[0m\n\u001b[0m\u001b[0;32m      4\u001b[0m     \u001b[0mycomp\u001b[0m \u001b[1;33m=\u001b[0m \u001b[0msp\u001b[0m\u001b[1;33m.\u001b[0m\u001b[0mdiff\u001b[0m\u001b[1;33m(\u001b[0m\u001b[0mphi\u001b[0m\u001b[1;33m[\u001b[0m\u001b[1;36m1\u001b[0m\u001b[1;33m]\u001b[0m\u001b[1;33m,\u001b[0m \u001b[0my\u001b[0m\u001b[1;33m)\u001b[0m\u001b[1;33m\u001b[0m\u001b[0m\n\u001b[0;32m      5\u001b[0m     \u001b[0mzcomp\u001b[0m \u001b[1;33m=\u001b[0m \u001b[0msp\u001b[0m\u001b[1;33m.\u001b[0m\u001b[0mdiff\u001b[0m\u001b[1;33m(\u001b[0m\u001b[0mphi\u001b[0m\u001b[1;33m[\u001b[0m\u001b[1;36m2\u001b[0m\u001b[1;33m]\u001b[0m\u001b[1;33m,\u001b[0m \u001b[0mz\u001b[0m\u001b[1;33m)\u001b[0m\u001b[1;33m\u001b[0m\u001b[0m\n",
      "\u001b[1;31mTypeError\u001b[0m: 'Add' object does not support indexing"
     ]
    }
   ],
   "source": [
    "def divergence(phi):\n",
    "    x, y, z = sp.symbols('x y z')\n",
    "    xcomp = sp.diff(phi[0], x)\n",
    "    ycomp = sp.diff(phi[1], y)\n",
    "    zcomp = sp.diff(phi[2], z) \n",
    "    return xcomp + ycomp + xcomp\n",
    "\n",
    "div = divergence(a)\n",
    "div\n",
    "\n",
    "#Not sure why this won't work. I figure I can do the curl after I figure out this problem.\n",
    "\n",
    "    \n",
    "    "
   ]
  },
  {
   "cell_type": "code",
   "execution_count": null,
   "metadata": {
    "collapsed": true
   },
   "outputs": [],
   "source": [
    "b = "
   ]
  },
  {
   "cell_type": "markdown",
   "metadata": {},
   "source": [
    "### Problem 1.18"
   ]
  },
  {
   "cell_type": "code",
   "execution_count": null,
   "metadata": {
    "collapsed": true
   },
   "outputs": [],
   "source": []
  }
 ],
 "metadata": {
  "kernelspec": {
   "display_name": "Python 3",
   "language": "python",
   "name": "python3"
  },
  "language_info": {
   "codemirror_mode": {
    "name": "ipython",
    "version": 3
   },
   "file_extension": ".py",
   "mimetype": "text/x-python",
   "name": "python",
   "nbconvert_exporter": "python",
   "pygments_lexer": "ipython3",
   "version": "3.6.1"
  }
 },
 "nbformat": 4,
 "nbformat_minor": 2
}
