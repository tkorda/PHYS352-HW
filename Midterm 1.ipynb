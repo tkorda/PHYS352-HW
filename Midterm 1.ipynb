{
 "cells": [
  {
   "cell_type": "code",
   "execution_count": null,
   "metadata": {
    "collapsed": true
   },
   "outputs": [],
   "source": [
    "import sympy as sp\n",
    "sp.init_printing()"
   ]
  },
  {
   "cell_type": "markdown",
   "metadata": {},
   "source": [
    "# Midterm 1\n",
    "## Instructions\n",
    "Use `sympy` to work the problems in this notebook, then submit via pull request. You may use any notebooks we have built over the course of the semester as reference material. Try to format your answers as readably as possible.\n",
    "\n",
    "For vector problems, you may use any of the three methods we have discussed for working with vectors in `sympy`.\n",
    "\n",
    "## `sympy` basics\n",
    "### Problem 1\n",
    "\n",
    "a) Solve $$ ax^2 + bx +c = 0$$ for $x$.\n"
   ]
  },
  {
   "cell_type": "code",
   "execution_count": null,
   "metadata": {
    "collapsed": true
   },
   "outputs": [],
   "source": []
  },
  {
   "cell_type": "markdown",
   "metadata": {},
   "source": [
    "\n",
    "b) Substitute $a=4$, $b=1$ and $c=-3$ into your answers to the previous question, and have `sympy` give you numerical results."
   ]
  },
  {
   "cell_type": "code",
   "execution_count": null,
   "metadata": {
    "collapsed": true
   },
   "outputs": [],
   "source": []
  },
  {
   "cell_type": "markdown",
   "metadata": {},
   "source": [
    "---\n",
    "\n",
    "## Vector basics\n",
    "### Problem 2\n",
    "Given the vectors $$\\mathbf{A} = \\left(\\begin{array}{c}1\\\\3\\\\-2\\end{array}\\right) \\qquad \\text{and} \\qquad\n",
    "\\mathbf{B}= \\left(\\begin{array}{c}4\\\\1\\\\5\\end{array}\\right),$$\n",
    "what are\n",
    "\n",
    "a) $\\mathbf{A} + \\mathbf{B}$?"
   ]
  },
  {
   "cell_type": "code",
   "execution_count": null,
   "metadata": {
    "collapsed": true
   },
   "outputs": [],
   "source": []
  },
  {
   "cell_type": "markdown",
   "metadata": {},
   "source": [
    "b) $\\mathbf{A}\\cdot\\mathbf{B}$?"
   ]
  },
  {
   "cell_type": "code",
   "execution_count": null,
   "metadata": {
    "collapsed": true
   },
   "outputs": [],
   "source": []
  },
  {
   "cell_type": "markdown",
   "metadata": {},
   "source": [
    "c) $\\mathbf{A}\\times\\mathbf{B}$?"
   ]
  },
  {
   "cell_type": "code",
   "execution_count": null,
   "metadata": {
    "collapsed": true
   },
   "outputs": [],
   "source": []
  },
  {
   "cell_type": "markdown",
   "metadata": {},
   "source": [
    "d) $\\mathbf{A} \\cdot \\left(\\mathbf{B} - \\left(\\mathbf{A}\\cdot\\mathbf{B}\\right)\\mathbf{A}\\right)$"
   ]
  },
  {
   "cell_type": "code",
   "execution_count": null,
   "metadata": {
    "collapsed": true
   },
   "outputs": [],
   "source": []
  },
  {
   "cell_type": "markdown",
   "metadata": {},
   "source": [
    "---\n",
    "\n",
    "## Derivatives\n",
    "\n",
    "### Problem 3\n",
    "Given the functions $$\\phi = xy - 3z^2$$ and $$\\mathbf{v} = zx\\hat{\\mathbf{x}} + yz\\hat{\\mathbf{y}} - xy\\hat{\\mathbf{z}},$$\n",
    "\n",
    "what are\n",
    "\n",
    "a) $\\nabla\\phi$?"
   ]
  },
  {
   "cell_type": "code",
   "execution_count": null,
   "metadata": {
    "collapsed": true
   },
   "outputs": [],
   "source": []
  },
  {
   "cell_type": "markdown",
   "metadata": {},
   "source": [
    "b) $\\nabla \\cdot \\left(\\phi \\mathbf{v}\\right) $"
   ]
  },
  {
   "cell_type": "code",
   "execution_count": null,
   "metadata": {
    "collapsed": true
   },
   "outputs": [],
   "source": []
  },
  {
   "cell_type": "markdown",
   "metadata": {},
   "source": [
    "c) $\\nabla\\times \\mathbf{v}$"
   ]
  },
  {
   "cell_type": "code",
   "execution_count": null,
   "metadata": {
    "collapsed": true
   },
   "outputs": [],
   "source": []
  },
  {
   "cell_type": "markdown",
   "metadata": {},
   "source": [
    "d) $(\\nabla\\cdot\\mathbf{v}) (\\nabla\\phi\\times\\hat{\\mathbf{z}})$"
   ]
  },
  {
   "cell_type": "code",
   "execution_count": null,
   "metadata": {
    "collapsed": true
   },
   "outputs": [],
   "source": []
  },
  {
   "cell_type": "markdown",
   "metadata": {},
   "source": [
    "---\n",
    "\n",
    "## Integrals\n",
    "\n",
    "### Problem 4\n",
    "a) For the $\\phi$ defined above, evaluate $$\\iiint \\phi \\,d\\tau $$ over the tetrahedron with vertices at $(0,0,0)$, $(1,0,0)$, $(0,1,0)$, and $(0,0,1)$."
   ]
  },
  {
   "cell_type": "code",
   "execution_count": null,
   "metadata": {
    "collapsed": true
   },
   "outputs": [],
   "source": []
  },
  {
   "cell_type": "markdown",
   "metadata": {},
   "source": [
    "b) Evaluate $$\\int \\mathbf{v}\\cdot\\,d\\mathbf{l}$$ along the path $(1,1,1) \\rightarrow (1,1,0) \\rightarrow (0,0,0)$."
   ]
  },
  {
   "cell_type": "code",
   "execution_count": null,
   "metadata": {
    "collapsed": true
   },
   "outputs": [],
   "source": []
  },
  {
   "cell_type": "markdown",
   "metadata": {},
   "source": [
    "---\n",
    "\n",
    "## Curvilinear coordinates\n",
    "\n",
    "### Problem 5\n",
    "Verify the divergence theorem for the function \n",
    "$$\\mathbf{w} = r^3 \\cos\\theta\\sin\\phi\\,\\hat{\\mathbf{r}} + {\\sin\\theta\\over r} \\hat{\\boldsymbol{\\theta}}$$ \n",
    "\n",
    "on the volume (in spherical coordinates) \n",
    "$$\\begin{eqnarray} a &\\le r &\\le b \\\\ 0 & \\le \\theta &\\le \\pi/6 \\\\ \\pi/4 &\\le \\phi &\\le \\pi\\end{eqnarray}$$ "
   ]
  },
  {
   "cell_type": "code",
   "execution_count": null,
   "metadata": {
    "collapsed": true
   },
   "outputs": [],
   "source": []
  }
 ],
 "metadata": {
  "kernelspec": {
   "display_name": "Python 3",
   "language": "python",
   "name": "python3"
  },
  "language_info": {
   "codemirror_mode": {
    "name": "ipython",
    "version": 3
   },
   "file_extension": ".py",
   "mimetype": "text/x-python",
   "name": "python",
   "nbconvert_exporter": "python",
   "pygments_lexer": "ipython3",
   "version": "3.6.2"
  }
 },
 "nbformat": 4,
 "nbformat_minor": 2
}
